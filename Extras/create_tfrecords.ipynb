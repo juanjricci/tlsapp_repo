{
 "cells": [
  {
   "cell_type": "markdown",
   "metadata": {},
   "source": [
    "# 0. Setup Paths"
   ]
  },
  {
   "cell_type": "code",
   "execution_count": null,
   "metadata": {},
   "outputs": [],
   "source": [
    "WORKSPACE_PATH = 'New_trained/workspace'\n",
    "SCRIPTS_PATH = 'New_trained/scripts'\n",
    "APIMODEL_PATH = 'New_trained/models'\n",
    "ANNOTATION_PATH = WORKSPACE_PATH+'/annotations'\n",
    "IMAGE_PATH = WORKSPACE_PATH+'/images'\n",
    "MODEL_PATH = WORKSPACE_PATH+'/models'\n",
    "PRETRAINED_MODEL_PATH = WORKSPACE_PATH+'/pre-trained-models'\n",
    "CONFIG_PATH = MODEL_PATH+'/my_ssd_mobnet/pipeline.config'\n",
    "CHECKPOINT_PATH = MODEL_PATH+'/my_ssd_mobnet/'"
   ]
  },
  {
   "attachments": {},
   "cell_type": "markdown",
   "metadata": {},
   "source": [
    "# 1. Create Label Map"
   ]
  },
  {
   "cell_type": "code",
   "execution_count": null,
   "metadata": {},
   "outputs": [],
   "source": [
    "labels = [{'name':'A', 'id':1}, \n",
    "          {'name':'B', 'id':2},\n",
    "          {'name':'C', 'id':3},\n",
    "          {'name':'D', 'id':4},\n",
    "          {'name':'E', 'id':5},\n",
    "          {'name':'F', 'id':6},\n",
    "          {'name':'G', 'id':7},\n",
    "          {'name':'H', 'id':8},\n",
    "          {'name':'I', 'id':9},\n",
    "          {'name':'J', 'id':10},\n",
    "          {'name':'K', 'id':11},\n",
    "          {'name':'L', 'id':12},\n",
    "          {'name':'M', 'id':13},\n",
    "          {'name':'N', 'id':14},\n",
    "          {'name':'Ñ', 'id':15},\n",
    "          {'name':'O', 'id':16},\n",
    "          {'name':'P', 'id':17},\n",
    "          {'name':'Q', 'id':18},\n",
    "          {'name':'R', 'id':19},\n",
    "          {'name':'S', 'id':20},\n",
    "          {'name':'T', 'id':21},\n",
    "          {'name':'U', 'id':22},\n",
    "          {'name':'V', 'id':23},\n",
    "          {'name':'W', 'id':24},\n",
    "          {'name':'X', 'id':25},\n",
    "          {'name':'Y', 'id':26},\n",
    "          {'name':'Z', 'id':27}]\n",
    "\n",
    "with open(ANNOTATION_PATH + '\\label_map.pbtxt', 'w') as f:\n",
    "    for label in labels:\n",
    "        f.write('item { \\n')\n",
    "        f.write('\\tname:\\'{}\\'\\n'.format(label['name']))\n",
    "        f.write('\\tid:{}\\n'.format(label['id']))\n",
    "        f.write('}\\n')"
   ]
  }
 ],
 "metadata": {
  "language_info": {
   "name": "python"
  },
  "orig_nbformat": 4
 },
 "nbformat": 4,
 "nbformat_minor": 2
}
